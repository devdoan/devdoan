{
  "nbformat": 4,
  "nbformat_minor": 0,
  "metadata": {
    "colab": {
      "provenance": [],
      "authorship_tag": "ABX9TyPVsSjg18ZGzUgH/UcZPxgi",
      "include_colab_link": true
    },
    "kernelspec": {
      "name": "python3",
      "display_name": "Python 3"
    },
    "language_info": {
      "name": "python"
    }
  },
  "cells": [
    {
      "cell_type": "markdown",
      "metadata": {
        "id": "view-in-github",
        "colab_type": "text"
      },
      "source": [
        "<a href=\"https://colab.research.google.com/github/devdoan/devdoan/blob/main/KhoahocdulieuNC_nhom3.ipynb\" target=\"_parent\"><img src=\"https://colab.research.google.com/assets/colab-badge.svg\" alt=\"Open In Colab\"/></a>"
      ]
    },
    {
      "cell_type": "markdown",
      "source": [
        "# BAT DAU BAI TAP VE NHA MON KHOA HOC DU LIEU NANG CAO"
      ],
      "metadata": {
        "id": "3STkx7cDishP"
      }
    },
    {
      "cell_type": "code",
      "execution_count": 1,
      "metadata": {
        "id": "cGC-QjzzhyQe"
      },
      "outputs": [],
      "source": [
        "import pandas as pd"
      ]
    },
    {
      "cell_type": "code",
      "source": [
        "df = pd.read_csv('Teams.csv')\n"
      ],
      "metadata": {
        "id": "7x0TE_WfirOd"
      },
      "execution_count": 2,
      "outputs": []
    },
    {
      "cell_type": "markdown",
      "source": [
        "DOI **_RS THANH R_**"
      ],
      "metadata": {
        "id": "P-NABDfBjC2B"
      }
    },
    {
      "cell_type": "code",
      "source": [
        "df = df.rename(columns={'RS': 'R'})"
      ],
      "metadata": {
        "id": "8XAi-j0DjK0V"
      },
      "execution_count": 3,
      "outputs": []
    },
    {
      "cell_type": "markdown",
      "source": [
        "ti le thang **thuc te** tinh theo _phan tram_\n"
      ],
      "metadata": {
        "id": "fujPp2KCjQ54"
      }
    },
    {
      "cell_type": "code",
      "source": [
        "df['WPct'] = df['W'] / (df['W'] + df['L'])"
      ],
      "metadata": {
        "id": "sKShoiWmjf59"
      },
      "execution_count": 4,
      "outputs": []
    },
    {
      "cell_type": "markdown",
      "source": [
        "ti le thang **du doan**"
      ],
      "metadata": {
        "id": "YLC50gMujil1"
      }
    },
    {
      "cell_type": "code",
      "source": [
        "df['WPct_hat'] = 1 / (1 + (df['RA'] / df['R']) ** 2)"
      ],
      "metadata": {
        "id": "bNBp62SQjqIx"
      },
      "execution_count": 7,
      "outputs": []
    },
    {
      "cell_type": "markdown",
      "source": [
        "So **tran thang** theo **du doan**\n"
      ],
      "metadata": {
        "id": "xwU3LBUrkUFO"
      }
    },
    {
      "cell_type": "code",
      "source": [
        "df['W_hat'] = df['WPct_hat'] * (df['W'] + df['L'])"
      ],
      "metadata": {
        "id": "tcqZ5mL9keiX"
      },
      "execution_count": 8,
      "outputs": []
    },
    {
      "cell_type": "markdown",
      "source": [
        "loc du lieu theo năm"
      ],
      "metadata": {
        "id": "a6kEnLbWksIV"
      }
    },
    {
      "cell_type": "code",
      "source": [
        "mets_data = df[(df['name'] == 'New York Mets') & (df['yearID'] >= 2004) & (df['yearID'] <= 2012)]\n",
        "\n",
        "print(df[(df['name'] == 'New York Mets') & (df['yearID'] >= 2004) & (df['yearID'] <= 2012)])"
      ],
      "metadata": {
        "colab": {
          "base_uri": "https://localhost:8080/"
        },
        "id": "t1IA_LDnks9V",
        "outputId": "7e7158f2-ee5e-48ba-927b-d2f017d3d77d"
      },
      "execution_count": 9,
      "outputs": [
        {
          "output_type": "stream",
          "name": "stdout",
          "text": [
            "      yearID lgID teamID franchID divID  Rank    G  Ghome   W   L  ...  \\\n",
            "2469    2004   NL    NYN      NYM     E     4  162   81.0  71  91  ...   \n",
            "2498    2005   NL    NYN      NYM     E     3  162   81.0  83  79  ...   \n",
            "2528    2006   NL    NYN      NYM     E     1  162   81.0  97  65  ...   \n",
            "2558    2007   NL    NYN      NYM     E     2  162   81.0  88  74  ...   \n",
            "2588    2008   NL    NYN      NYM     E     2  162   81.0  89  73  ...   \n",
            "2618    2009   NL    NYN      NYM     E     4  162   81.0  70  92  ...   \n",
            "2648    2010   NL    NYN      NYM     E     4  162   81.0  79  83  ...   \n",
            "2678    2011   NL    NYN      NYM     E     4  162   81.0  77  85  ...   \n",
            "2708    2012   NL    NYN      NYM     E     4  162   81.0  74  88  ...   \n",
            "\n",
            "              park attendance BPF PPF  teamIDBR  teamIDlahman45  teamIDretro  \\\n",
            "2469  Shea Stadium  2318951.0  99  99       NYM             NYN          NYN   \n",
            "2498  Shea Stadium  2829929.0  98  97       NYM             NYN          NYN   \n",
            "2528  Shea Stadium  3379535.0  98  97       NYM             NYN          NYN   \n",
            "2558  Shea Stadium  3853955.0  98  97       NYM             NYN          NYN   \n",
            "2588  Shea Stadium  4042045.0  99  98       NYM             NYN          NYN   \n",
            "2618    Citi Field  3168571.0  97  97       NYM             NYN          NYN   \n",
            "2648    Citi Field  2559738.0  97  97       NYM             NYN          NYN   \n",
            "2678    Citi Field  2352596.0  98  98       NYM             NYN          NYN   \n",
            "2708    Citi Field  2242803.0  96  97       NYM             NYN          NYN   \n",
            "\n",
            "          WPct  WPct_hat      W_hat  \n",
            "2469  0.438272  0.466821  75.625011  \n",
            "2498  0.512346  0.553857  89.724909  \n",
            "2528  0.598765  0.565531  91.615997  \n",
            "2558  0.543210  0.534707  86.622554  \n",
            "2588  0.549383  0.555312  89.960528  \n",
            "2618  0.432099  0.439994  71.278955  \n",
            "2648  0.487654  0.503058  81.495408  \n",
            "2678  0.475309  0.483566  78.337706  \n",
            "2708  0.456790  0.456667  73.980118  \n",
            "\n",
            "[9 rows x 51 columns]\n"
          ]
        }
      ]
    },
    {
      "cell_type": "markdown",
      "source": [
        "su **khac biet** giữa _thắng_ và _thua_ **thục te**"
      ],
      "metadata": {
        "id": "ZgyGdEywk7CH"
      }
    },
    {
      "cell_type": "code",
      "source": [
        "mets_data['Diff'] = mets_data['W'] - mets_data['W_hat']"
      ],
      "metadata": {
        "id": "fPfpAsgFlCft"
      },
      "execution_count": null,
      "outputs": []
    },
    {
      "cell_type": "markdown",
      "source": [
        "Sắp xếp theo sụ khac biet"
      ],
      "metadata": {
        "id": "zpvUALaKlFfo"
      }
    },
    {
      "cell_type": "code",
      "source": [
        "mets_data_clauch = mets_data [mets_data['L'] > mets_data['W']].copy()\n",
        "mets_data_clauch['Diff'] = mets_data_clauch['W'] - mets_data_clauch['W_hat']\n",
        "\n",
        "mets_data_sorted = mets_data_clauch.sort_values(by='Diff', ascending=False)\n",
        "display(mets_data_sorted)\n",
        "\n",
        "\n"
      ],
      "metadata": {
        "colab": {
          "base_uri": "https://localhost:8080/",
          "height": 236
        },
        "id": "RNfriWnml2Q-",
        "outputId": "341b6402-3461-408d-c762-ff2d26353bac"
      },
      "execution_count": 12,
      "outputs": [
        {
          "output_type": "display_data",
          "data": {
            "text/plain": [
              "      yearID lgID teamID franchID divID  Rank    G  Ghome   W   L  ...  \\\n",
              "2708    2012   NL    NYN      NYM     E     4  162   81.0  74  88  ...   \n",
              "2618    2009   NL    NYN      NYM     E     4  162   81.0  70  92  ...   \n",
              "2678    2011   NL    NYN      NYM     E     4  162   81.0  77  85  ...   \n",
              "2648    2010   NL    NYN      NYM     E     4  162   81.0  79  83  ...   \n",
              "2469    2004   NL    NYN      NYM     E     4  162   81.0  71  91  ...   \n",
              "\n",
              "     attendance BPF PPF teamIDBR  teamIDlahman45  teamIDretro      WPct  \\\n",
              "2708  2242803.0  96  97      NYM             NYN          NYN  0.456790   \n",
              "2618  3168571.0  97  97      NYM             NYN          NYN  0.432099   \n",
              "2678  2352596.0  98  98      NYM             NYN          NYN  0.475309   \n",
              "2648  2559738.0  97  97      NYM             NYN          NYN  0.487654   \n",
              "2469  2318951.0  99  99      NYM             NYN          NYN  0.438272   \n",
              "\n",
              "      WPct_hat      W_hat      Diff  \n",
              "2708  0.456667  73.980118  0.019882  \n",
              "2618  0.439994  71.278955 -1.278955  \n",
              "2678  0.483566  78.337706 -1.337706  \n",
              "2648  0.503058  81.495408 -2.495408  \n",
              "2469  0.466821  75.625011 -4.625011  \n",
              "\n",
              "[5 rows x 52 columns]"
            ],
            "text/html": [
              "\n",
              "  <div id=\"df-1a453ddf-b1d1-460c-9375-7447a4aebfd0\" class=\"colab-df-container\">\n",
              "    <div>\n",
              "<style scoped>\n",
              "    .dataframe tbody tr th:only-of-type {\n",
              "        vertical-align: middle;\n",
              "    }\n",
              "\n",
              "    .dataframe tbody tr th {\n",
              "        vertical-align: top;\n",
              "    }\n",
              "\n",
              "    .dataframe thead th {\n",
              "        text-align: right;\n",
              "    }\n",
              "</style>\n",
              "<table border=\"1\" class=\"dataframe\">\n",
              "  <thead>\n",
              "    <tr style=\"text-align: right;\">\n",
              "      <th></th>\n",
              "      <th>yearID</th>\n",
              "      <th>lgID</th>\n",
              "      <th>teamID</th>\n",
              "      <th>franchID</th>\n",
              "      <th>divID</th>\n",
              "      <th>Rank</th>\n",
              "      <th>G</th>\n",
              "      <th>Ghome</th>\n",
              "      <th>W</th>\n",
              "      <th>L</th>\n",
              "      <th>...</th>\n",
              "      <th>attendance</th>\n",
              "      <th>BPF</th>\n",
              "      <th>PPF</th>\n",
              "      <th>teamIDBR</th>\n",
              "      <th>teamIDlahman45</th>\n",
              "      <th>teamIDretro</th>\n",
              "      <th>WPct</th>\n",
              "      <th>WPct_hat</th>\n",
              "      <th>W_hat</th>\n",
              "      <th>Diff</th>\n",
              "    </tr>\n",
              "  </thead>\n",
              "  <tbody>\n",
              "    <tr>\n",
              "      <th>2708</th>\n",
              "      <td>2012</td>\n",
              "      <td>NL</td>\n",
              "      <td>NYN</td>\n",
              "      <td>NYM</td>\n",
              "      <td>E</td>\n",
              "      <td>4</td>\n",
              "      <td>162</td>\n",
              "      <td>81.0</td>\n",
              "      <td>74</td>\n",
              "      <td>88</td>\n",
              "      <td>...</td>\n",
              "      <td>2242803.0</td>\n",
              "      <td>96</td>\n",
              "      <td>97</td>\n",
              "      <td>NYM</td>\n",
              "      <td>NYN</td>\n",
              "      <td>NYN</td>\n",
              "      <td>0.456790</td>\n",
              "      <td>0.456667</td>\n",
              "      <td>73.980118</td>\n",
              "      <td>0.019882</td>\n",
              "    </tr>\n",
              "    <tr>\n",
              "      <th>2618</th>\n",
              "      <td>2009</td>\n",
              "      <td>NL</td>\n",
              "      <td>NYN</td>\n",
              "      <td>NYM</td>\n",
              "      <td>E</td>\n",
              "      <td>4</td>\n",
              "      <td>162</td>\n",
              "      <td>81.0</td>\n",
              "      <td>70</td>\n",
              "      <td>92</td>\n",
              "      <td>...</td>\n",
              "      <td>3168571.0</td>\n",
              "      <td>97</td>\n",
              "      <td>97</td>\n",
              "      <td>NYM</td>\n",
              "      <td>NYN</td>\n",
              "      <td>NYN</td>\n",
              "      <td>0.432099</td>\n",
              "      <td>0.439994</td>\n",
              "      <td>71.278955</td>\n",
              "      <td>-1.278955</td>\n",
              "    </tr>\n",
              "    <tr>\n",
              "      <th>2678</th>\n",
              "      <td>2011</td>\n",
              "      <td>NL</td>\n",
              "      <td>NYN</td>\n",
              "      <td>NYM</td>\n",
              "      <td>E</td>\n",
              "      <td>4</td>\n",
              "      <td>162</td>\n",
              "      <td>81.0</td>\n",
              "      <td>77</td>\n",
              "      <td>85</td>\n",
              "      <td>...</td>\n",
              "      <td>2352596.0</td>\n",
              "      <td>98</td>\n",
              "      <td>98</td>\n",
              "      <td>NYM</td>\n",
              "      <td>NYN</td>\n",
              "      <td>NYN</td>\n",
              "      <td>0.475309</td>\n",
              "      <td>0.483566</td>\n",
              "      <td>78.337706</td>\n",
              "      <td>-1.337706</td>\n",
              "    </tr>\n",
              "    <tr>\n",
              "      <th>2648</th>\n",
              "      <td>2010</td>\n",
              "      <td>NL</td>\n",
              "      <td>NYN</td>\n",
              "      <td>NYM</td>\n",
              "      <td>E</td>\n",
              "      <td>4</td>\n",
              "      <td>162</td>\n",
              "      <td>81.0</td>\n",
              "      <td>79</td>\n",
              "      <td>83</td>\n",
              "      <td>...</td>\n",
              "      <td>2559738.0</td>\n",
              "      <td>97</td>\n",
              "      <td>97</td>\n",
              "      <td>NYM</td>\n",
              "      <td>NYN</td>\n",
              "      <td>NYN</td>\n",
              "      <td>0.487654</td>\n",
              "      <td>0.503058</td>\n",
              "      <td>81.495408</td>\n",
              "      <td>-2.495408</td>\n",
              "    </tr>\n",
              "    <tr>\n",
              "      <th>2469</th>\n",
              "      <td>2004</td>\n",
              "      <td>NL</td>\n",
              "      <td>NYN</td>\n",
              "      <td>NYM</td>\n",
              "      <td>E</td>\n",
              "      <td>4</td>\n",
              "      <td>162</td>\n",
              "      <td>81.0</td>\n",
              "      <td>71</td>\n",
              "      <td>91</td>\n",
              "      <td>...</td>\n",
              "      <td>2318951.0</td>\n",
              "      <td>99</td>\n",
              "      <td>99</td>\n",
              "      <td>NYM</td>\n",
              "      <td>NYN</td>\n",
              "      <td>NYN</td>\n",
              "      <td>0.438272</td>\n",
              "      <td>0.466821</td>\n",
              "      <td>75.625011</td>\n",
              "      <td>-4.625011</td>\n",
              "    </tr>\n",
              "  </tbody>\n",
              "</table>\n",
              "<p>5 rows × 52 columns</p>\n",
              "</div>\n",
              "    <div class=\"colab-df-buttons\">\n",
              "\n",
              "  <div class=\"colab-df-container\">\n",
              "    <button class=\"colab-df-convert\" onclick=\"convertToInteractive('df-1a453ddf-b1d1-460c-9375-7447a4aebfd0')\"\n",
              "            title=\"Convert this dataframe to an interactive table.\"\n",
              "            style=\"display:none;\">\n",
              "\n",
              "  <svg xmlns=\"http://www.w3.org/2000/svg\" height=\"24px\" viewBox=\"0 -960 960 960\">\n",
              "    <path d=\"M120-120v-720h720v720H120Zm60-500h600v-160H180v160Zm220 220h160v-160H400v160Zm0 220h160v-160H400v160ZM180-400h160v-160H180v160Zm440 0h160v-160H620v160ZM180-180h160v-160H180v160Zm440 0h160v-160H620v160Z\"/>\n",
              "  </svg>\n",
              "    </button>\n",
              "\n",
              "  <style>\n",
              "    .colab-df-container {\n",
              "      display:flex;\n",
              "      gap: 12px;\n",
              "    }\n",
              "\n",
              "    .colab-df-convert {\n",
              "      background-color: #E8F0FE;\n",
              "      border: none;\n",
              "      border-radius: 50%;\n",
              "      cursor: pointer;\n",
              "      display: none;\n",
              "      fill: #1967D2;\n",
              "      height: 32px;\n",
              "      padding: 0 0 0 0;\n",
              "      width: 32px;\n",
              "    }\n",
              "\n",
              "    .colab-df-convert:hover {\n",
              "      background-color: #E2EBFA;\n",
              "      box-shadow: 0px 1px 2px rgba(60, 64, 67, 0.3), 0px 1px 3px 1px rgba(60, 64, 67, 0.15);\n",
              "      fill: #174EA6;\n",
              "    }\n",
              "\n",
              "    .colab-df-buttons div {\n",
              "      margin-bottom: 4px;\n",
              "    }\n",
              "\n",
              "    [theme=dark] .colab-df-convert {\n",
              "      background-color: #3B4455;\n",
              "      fill: #D2E3FC;\n",
              "    }\n",
              "\n",
              "    [theme=dark] .colab-df-convert:hover {\n",
              "      background-color: #434B5C;\n",
              "      box-shadow: 0px 1px 3px 1px rgba(0, 0, 0, 0.15);\n",
              "      filter: drop-shadow(0px 1px 2px rgba(0, 0, 0, 0.3));\n",
              "      fill: #FFFFFF;\n",
              "    }\n",
              "  </style>\n",
              "\n",
              "    <script>\n",
              "      const buttonEl =\n",
              "        document.querySelector('#df-1a453ddf-b1d1-460c-9375-7447a4aebfd0 button.colab-df-convert');\n",
              "      buttonEl.style.display =\n",
              "        google.colab.kernel.accessAllowed ? 'block' : 'none';\n",
              "\n",
              "      async function convertToInteractive(key) {\n",
              "        const element = document.querySelector('#df-1a453ddf-b1d1-460c-9375-7447a4aebfd0');\n",
              "        const dataTable =\n",
              "          await google.colab.kernel.invokeFunction('convertToInteractive',\n",
              "                                                    [key], {});\n",
              "        if (!dataTable) return;\n",
              "\n",
              "        const docLinkHtml = 'Like what you see? Visit the ' +\n",
              "          '<a target=\"_blank\" href=https://colab.research.google.com/notebooks/data_table.ipynb>data table notebook</a>'\n",
              "          + ' to learn more about interactive tables.';\n",
              "        element.innerHTML = '';\n",
              "        dataTable['output_type'] = 'display_data';\n",
              "        await google.colab.output.renderOutput(dataTable, element);\n",
              "        const docLink = document.createElement('div');\n",
              "        docLink.innerHTML = docLinkHtml;\n",
              "        element.appendChild(docLink);\n",
              "      }\n",
              "    </script>\n",
              "  </div>\n",
              "\n",
              "\n",
              "    <div id=\"df-4d8ec88b-d288-429f-8428-9f126370e84f\">\n",
              "      <button class=\"colab-df-quickchart\" onclick=\"quickchart('df-4d8ec88b-d288-429f-8428-9f126370e84f')\"\n",
              "                title=\"Suggest charts\"\n",
              "                style=\"display:none;\">\n",
              "\n",
              "<svg xmlns=\"http://www.w3.org/2000/svg\" height=\"24px\"viewBox=\"0 0 24 24\"\n",
              "     width=\"24px\">\n",
              "    <g>\n",
              "        <path d=\"M19 3H5c-1.1 0-2 .9-2 2v14c0 1.1.9 2 2 2h14c1.1 0 2-.9 2-2V5c0-1.1-.9-2-2-2zM9 17H7v-7h2v7zm4 0h-2V7h2v10zm4 0h-2v-4h2v4z\"/>\n",
              "    </g>\n",
              "</svg>\n",
              "      </button>\n",
              "\n",
              "<style>\n",
              "  .colab-df-quickchart {\n",
              "      --bg-color: #E8F0FE;\n",
              "      --fill-color: #1967D2;\n",
              "      --hover-bg-color: #E2EBFA;\n",
              "      --hover-fill-color: #174EA6;\n",
              "      --disabled-fill-color: #AAA;\n",
              "      --disabled-bg-color: #DDD;\n",
              "  }\n",
              "\n",
              "  [theme=dark] .colab-df-quickchart {\n",
              "      --bg-color: #3B4455;\n",
              "      --fill-color: #D2E3FC;\n",
              "      --hover-bg-color: #434B5C;\n",
              "      --hover-fill-color: #FFFFFF;\n",
              "      --disabled-bg-color: #3B4455;\n",
              "      --disabled-fill-color: #666;\n",
              "  }\n",
              "\n",
              "  .colab-df-quickchart {\n",
              "    background-color: var(--bg-color);\n",
              "    border: none;\n",
              "    border-radius: 50%;\n",
              "    cursor: pointer;\n",
              "    display: none;\n",
              "    fill: var(--fill-color);\n",
              "    height: 32px;\n",
              "    padding: 0;\n",
              "    width: 32px;\n",
              "  }\n",
              "\n",
              "  .colab-df-quickchart:hover {\n",
              "    background-color: var(--hover-bg-color);\n",
              "    box-shadow: 0 1px 2px rgba(60, 64, 67, 0.3), 0 1px 3px 1px rgba(60, 64, 67, 0.15);\n",
              "    fill: var(--button-hover-fill-color);\n",
              "  }\n",
              "\n",
              "  .colab-df-quickchart-complete:disabled,\n",
              "  .colab-df-quickchart-complete:disabled:hover {\n",
              "    background-color: var(--disabled-bg-color);\n",
              "    fill: var(--disabled-fill-color);\n",
              "    box-shadow: none;\n",
              "  }\n",
              "\n",
              "  .colab-df-spinner {\n",
              "    border: 2px solid var(--fill-color);\n",
              "    border-color: transparent;\n",
              "    border-bottom-color: var(--fill-color);\n",
              "    animation:\n",
              "      spin 1s steps(1) infinite;\n",
              "  }\n",
              "\n",
              "  @keyframes spin {\n",
              "    0% {\n",
              "      border-color: transparent;\n",
              "      border-bottom-color: var(--fill-color);\n",
              "      border-left-color: var(--fill-color);\n",
              "    }\n",
              "    20% {\n",
              "      border-color: transparent;\n",
              "      border-left-color: var(--fill-color);\n",
              "      border-top-color: var(--fill-color);\n",
              "    }\n",
              "    30% {\n",
              "      border-color: transparent;\n",
              "      border-left-color: var(--fill-color);\n",
              "      border-top-color: var(--fill-color);\n",
              "      border-right-color: var(--fill-color);\n",
              "    }\n",
              "    40% {\n",
              "      border-color: transparent;\n",
              "      border-right-color: var(--fill-color);\n",
              "      border-top-color: var(--fill-color);\n",
              "    }\n",
              "    60% {\n",
              "      border-color: transparent;\n",
              "      border-right-color: var(--fill-color);\n",
              "    }\n",
              "    80% {\n",
              "      border-color: transparent;\n",
              "      border-right-color: var(--fill-color);\n",
              "      border-bottom-color: var(--fill-color);\n",
              "    }\n",
              "    90% {\n",
              "      border-color: transparent;\n",
              "      border-bottom-color: var(--fill-color);\n",
              "    }\n",
              "  }\n",
              "</style>\n",
              "\n",
              "      <script>\n",
              "        async function quickchart(key) {\n",
              "          const quickchartButtonEl =\n",
              "            document.querySelector('#' + key + ' button');\n",
              "          quickchartButtonEl.disabled = true;  // To prevent multiple clicks.\n",
              "          quickchartButtonEl.classList.add('colab-df-spinner');\n",
              "          try {\n",
              "            const charts = await google.colab.kernel.invokeFunction(\n",
              "                'suggestCharts', [key], {});\n",
              "          } catch (error) {\n",
              "            console.error('Error during call to suggestCharts:', error);\n",
              "          }\n",
              "          quickchartButtonEl.classList.remove('colab-df-spinner');\n",
              "          quickchartButtonEl.classList.add('colab-df-quickchart-complete');\n",
              "        }\n",
              "        (() => {\n",
              "          let quickchartButtonEl =\n",
              "            document.querySelector('#df-4d8ec88b-d288-429f-8428-9f126370e84f button');\n",
              "          quickchartButtonEl.style.display =\n",
              "            google.colab.kernel.accessAllowed ? 'block' : 'none';\n",
              "        })();\n",
              "      </script>\n",
              "    </div>\n",
              "\n",
              "  <div id=\"id_11354797-dd2d-426e-9bab-dde4a2f84068\">\n",
              "    <style>\n",
              "      .colab-df-generate {\n",
              "        background-color: #E8F0FE;\n",
              "        border: none;\n",
              "        border-radius: 50%;\n",
              "        cursor: pointer;\n",
              "        display: none;\n",
              "        fill: #1967D2;\n",
              "        height: 32px;\n",
              "        padding: 0 0 0 0;\n",
              "        width: 32px;\n",
              "      }\n",
              "\n",
              "      .colab-df-generate:hover {\n",
              "        background-color: #E2EBFA;\n",
              "        box-shadow: 0px 1px 2px rgba(60, 64, 67, 0.3), 0px 1px 3px 1px rgba(60, 64, 67, 0.15);\n",
              "        fill: #174EA6;\n",
              "      }\n",
              "\n",
              "      [theme=dark] .colab-df-generate {\n",
              "        background-color: #3B4455;\n",
              "        fill: #D2E3FC;\n",
              "      }\n",
              "\n",
              "      [theme=dark] .colab-df-generate:hover {\n",
              "        background-color: #434B5C;\n",
              "        box-shadow: 0px 1px 3px 1px rgba(0, 0, 0, 0.15);\n",
              "        filter: drop-shadow(0px 1px 2px rgba(0, 0, 0, 0.3));\n",
              "        fill: #FFFFFF;\n",
              "      }\n",
              "    </style>\n",
              "    <button class=\"colab-df-generate\" onclick=\"generateWithVariable('mets_data_sorted')\"\n",
              "            title=\"Generate code using this dataframe.\"\n",
              "            style=\"display:none;\">\n",
              "\n",
              "  <svg xmlns=\"http://www.w3.org/2000/svg\" height=\"24px\"viewBox=\"0 0 24 24\"\n",
              "       width=\"24px\">\n",
              "    <path d=\"M7,19H8.4L18.45,9,17,7.55,7,17.6ZM5,21V16.75L18.45,3.32a2,2,0,0,1,2.83,0l1.4,1.43a1.91,1.91,0,0,1,.58,1.4,1.91,1.91,0,0,1-.58,1.4L9.25,21ZM18.45,9,17,7.55Zm-12,3A5.31,5.31,0,0,0,4.9,8.1,5.31,5.31,0,0,0,1,6.5,5.31,5.31,0,0,0,4.9,4.9,5.31,5.31,0,0,0,6.5,1,5.31,5.31,0,0,0,8.1,4.9,5.31,5.31,0,0,0,12,6.5,5.46,5.46,0,0,0,6.5,12Z\"/>\n",
              "  </svg>\n",
              "    </button>\n",
              "    <script>\n",
              "      (() => {\n",
              "      const buttonEl =\n",
              "        document.querySelector('#id_11354797-dd2d-426e-9bab-dde4a2f84068 button.colab-df-generate');\n",
              "      buttonEl.style.display =\n",
              "        google.colab.kernel.accessAllowed ? 'block' : 'none';\n",
              "\n",
              "      buttonEl.onclick = () => {\n",
              "        google.colab.notebook.generateWithVariable('mets_data_sorted');\n",
              "      }\n",
              "      })();\n",
              "    </script>\n",
              "  </div>\n",
              "\n",
              "    </div>\n",
              "  </div>\n"
            ],
            "application/vnd.google.colaboratory.intrinsic+json": {
              "type": "dataframe",
              "variable_name": "mets_data_sorted"
            }
          },
          "metadata": {}
        }
      ]
    },
    {
      "cell_type": "code",
      "source": [
        "print(mets_data_sorted[['yearID', 'L' ,'W', 'W_hat', 'Diff', 'Rank']])"
      ],
      "metadata": {
        "colab": {
          "base_uri": "https://localhost:8080/"
        },
        "id": "MMaLtWlFmNZe",
        "outputId": "d3c748a8-cc73-434e-9044-f99adc79ebaf"
      },
      "execution_count": 13,
      "outputs": [
        {
          "output_type": "stream",
          "name": "stdout",
          "text": [
            "      yearID   L   W      W_hat      Diff  Rank\n",
            "2708    2012  88  74  73.980118  0.019882     4\n",
            "2618    2009  92  70  71.278955 -1.278955     4\n",
            "2678    2011  85  77  78.337706 -1.337706     4\n",
            "2648    2010  83  79  81.495408 -2.495408     4\n",
            "2469    2004  91  71  75.625011 -4.625011     4\n"
          ]
        }
      ]
    }
  ]
}